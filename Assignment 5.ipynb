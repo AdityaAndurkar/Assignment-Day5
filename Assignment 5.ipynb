{
 "cells": [
  {
   "cell_type": "code",
   "execution_count": 4,
   "metadata": {},
   "outputs": [
    {
     "name": "stdout",
     "output_type": "stream",
     "text": [
      "Sorted Array Is:  [0, 0, 0, 0, 0, 1, 1, 1, 2, 2, 3, 4, 4, 10, 56, 56]\n",
      "Sorted Array with Zero's at End : [1, 1, 1, 2, 2, 3, 4, 4, 10, 56, 56, 0, 0, 0, 0, 0]\n"
     ]
    }
   ],
   "source": [
    "#Sort by increasing order but all zeros should be at right hand side.\n",
    "\n",
    "def shiftZeros(arr):\n",
    "    count=0\n",
    "    n=len(arr)\n",
    "    \n",
    "    for i in range(n):\n",
    "        if arr[i]!=0:\n",
    "            arr[count]=arr[i]\n",
    "            count+=1\n",
    "            \n",
    "    while count<n:\n",
    "        arr[count]=0\n",
    "        count=count+1\n",
    "    \n",
    "arr=[0,1,2,10,4,1,0,56,2,0,1,3,0,56,0,4]\n",
    "\n",
    "arr.sort()\n",
    "print(\"Sorted Array Is: \",arr)\n",
    "\n",
    "shiftZeros(arr)\n",
    "\n",
    "print(\"Sorted Array with Zero's at End :\", arr)"
   ]
  },
  {
   "cell_type": "code",
   "execution_count": 5,
   "metadata": {},
   "outputs": [
    {
     "name": "stdout",
     "output_type": "stream",
     "text": [
      "OUTPUT : [5, 10, 15, 20, 25, 35, 40, 45, 60, 60, 70, 80]\n"
     ]
    }
   ],
   "source": [
    "#Merge two lists to produce one sorted list, but use only one for loop or while loop.\n",
    "\n",
    "list1=[10,20,40,60,70,80]\n",
    "list2=[5,15,25,35,45,60]\n",
    "\n",
    "size1=len(list1)\n",
    "size2=len(list2)\n",
    "\n",
    "res=[]\n",
    "\n",
    "i,j=0,0\n",
    "\n",
    "while i<size1 and j<size2:\n",
    "    if list1[i]<list2[j]:\n",
    "        res.append(list1[i])\n",
    "        i+=1\n",
    "        \n",
    "    else:\n",
    "        res.append(list2[j])\n",
    "        j+=1\n",
    "        \n",
    "res=res+list1[i:]+list2[j:]\n",
    "\n",
    "print(\"OUTPUT : \" + str(res))"
   ]
  },
  {
   "cell_type": "code",
   "execution_count": null,
   "metadata": {},
   "outputs": [],
   "source": []
  }
 ],
 "metadata": {
  "kernelspec": {
   "display_name": "Python 3",
   "language": "python",
   "name": "python3"
  },
  "language_info": {
   "codemirror_mode": {
    "name": "ipython",
    "version": 3
   },
   "file_extension": ".py",
   "mimetype": "text/x-python",
   "name": "python",
   "nbconvert_exporter": "python",
   "pygments_lexer": "ipython3",
   "version": "3.7.6"
  }
 },
 "nbformat": 4,
 "nbformat_minor": 4
}
